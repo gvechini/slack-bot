{
 "cells": [
  {
   "cell_type": "code",
   "execution_count": 4,
   "metadata": {},
   "outputs": [
    {
     "data": {
      "text/plain": [
       "<slack_sdk.web.slack_response.SlackResponse at 0x12eb9556e90>"
      ]
     },
     "execution_count": 4,
     "metadata": {},
     "output_type": "execute_result"
    }
   ],
   "source": [
    "## saying hello\n",
    "import os\n",
    "from pathlib import Path\n",
    "from dotenv import load_dotenv\n",
    "\n",
    "env_path = Path('.') / '.env'\n",
    "load_dotenv(dotenv_path = env_path)\n",
    "\n",
    "client  = WebClient(token = os.environ['SLACK_TOKEN'])\n",
    "\n",
    "canal= 'desenvolvimento-de-bot'\n",
    "\n",
    "client.chat_postMessage(channel = canal, text = 'Hello IA!')"
   ]
  },
  {
   "cell_type": "code",
   "execution_count": null,
   "metadata": {},
   "outputs": [],
   "source": [
    "# import slack\n",
    "import os\n",
    "from pathlib import Path\n",
    "from dotenv import load_dotenv\n",
    "from flask import Flask, request, Response\n",
    "from slackeventsapi import SlackEventAdapter\n",
    "from slack_sdk import WebClient"
   ]
  },
  {
   "cell_type": "code",
   "execution_count": 12,
   "metadata": {},
   "outputs": [
    {
     "name": "stdout",
     "output_type": "stream",
     "text": [
      " * Serving Flask app '__main__'\n",
      " * Debug mode: on\n"
     ]
    },
    {
     "name": "stderr",
     "output_type": "stream",
     "text": [
      "WARNING: This is a development server. Do not use it in a production deployment. Use a production WSGI server instead.\n",
      " * Running on http://127.0.0.1:5011\n",
      "Press CTRL+C to quit\n",
      "127.0.0.1 - - [23/Jan/2023 10:32:18] \"POST /slack/events HTTP/1.1\" 200 -\n",
      "127.0.0.1 - - [23/Jan/2023 10:32:32] \"POST /slack/events HTTP/1.1\" 200 -\n",
      "127.0.0.1 - - [23/Jan/2023 10:32:32] \"POST /slack/events HTTP/1.1\" 200 -\n"
     ]
    },
    {
     "name": "stdout",
     "output_type": "stream",
     "text": [
      "{'type': 'reaction_added', 'user': 'U04G08MTH8S', 'reaction': 'raised_hands', 'item': {'type': 'message', 'channel': 'C04FZCL439B', 'ts': '1674480747.499049'}, 'item_user': 'U04GQ2L2X9N', 'event_ts': '1674480816.000300'}\n"
     ]
    },
    {
     "name": "stderr",
     "output_type": "stream",
     "text": [
      "127.0.0.1 - - [23/Jan/2023 10:33:41] \"POST /slack/events HTTP/1.1\" 200 -\n",
      "127.0.0.1 - - [23/Jan/2023 10:33:42] \"POST /slack/events HTTP/1.1\" 200 -\n",
      "127.0.0.1 - - [23/Jan/2023 10:34:16] \"POST /slack/events HTTP/1.1\" 200 -\n"
     ]
    },
    {
     "name": "stdout",
     "output_type": "stream",
     "text": [
      "{'type': 'reaction_added', 'user': 'U04G08MTH8S', 'reaction': 'white_check_mark', 'item': {'type': 'message', 'channel': 'C04FZCL439B', 'ts': '1674480486.348739'}, 'item_user': 'U04G08MTH8S', 'event_ts': '1674480489.000200'}\n"
     ]
    },
    {
     "name": "stderr",
     "output_type": "stream",
     "text": [
      "127.0.0.1 - - [23/Jan/2023 10:34:17] \"POST /slack/events HTTP/1.1\" 200 -\n",
      "127.0.0.1 - - [23/Jan/2023 10:34:17] \"POST /slack/events HTTP/1.1\" 200 -\n",
      "127.0.0.1 - - [23/Jan/2023 10:34:17] \"POST /slack/events HTTP/1.1\" 200 -\n",
      "127.0.0.1 - - [23/Jan/2023 10:34:48] \"POST /slack/events HTTP/1.1\" 200 -\n",
      "127.0.0.1 - - [23/Jan/2023 10:47:02] \"POST /slack/events HTTP/1.1\" 200 -\n",
      "127.0.0.1 - - [23/Jan/2023 10:47:03] \"POST /slack/events HTTP/1.1\" 200 -\n"
     ]
    },
    {
     "name": "stdout",
     "output_type": "stream",
     "text": [
      "{'type': 'reaction_added', 'user': 'U04G08MTH8S', 'reaction': 'white_check_mark', 'item': {'type': 'message', 'channel': 'C04FZCL439B', 'ts': '1674481617.300039'}, 'item_user': 'U04G08MTH8S', 'event_ts': '1674481623.000400'}\n"
     ]
    },
    {
     "name": "stderr",
     "output_type": "stream",
     "text": [
      "127.0.0.1 - - [23/Jan/2023 10:47:09] \"POST /slack/events HTTP/1.1\" 200 -\n",
      "127.0.0.1 - - [23/Jan/2023 10:47:09] \"POST /slack/events HTTP/1.1\" 200 -\n"
     ]
    },
    {
     "name": "stdout",
     "output_type": "stream",
     "text": [
      "{'type': 'reaction_added', 'user': 'U04G08MTH8S', 'reaction': 'raised_hands', 'item': {'type': 'message', 'channel': 'C04FZCL439B', 'ts': '1674481618.107259'}, 'item_user': 'U04GQ2L2X9N', 'event_ts': '1674481642.000500'}\n"
     ]
    },
    {
     "name": "stderr",
     "output_type": "stream",
     "text": [
      "127.0.0.1 - - [23/Jan/2023 10:47:27] \"POST /slack/events HTTP/1.1\" 200 -\n",
      "127.0.0.1 - - [23/Jan/2023 10:47:28] \"POST /slack/events HTTP/1.1\" 200 -\n",
      "127.0.0.1 - - [23/Jan/2023 10:48:00] \"POST /slack/events HTTP/1.1\" 200 -\n",
      "127.0.0.1 - - [23/Jan/2023 10:48:00] \"POST /slack/events HTTP/1.1\" 200 -\n"
     ]
    },
    {
     "name": "stdout",
     "output_type": "stream",
     "text": [
      "{'type': 'reaction_added', 'user': 'U04G08MTH8S', 'reaction': 'white_check_mark', 'item': {'type': 'message', 'channel': 'C04FZCL439B', 'ts': '1674481675.002339'}, 'item_user': 'U04G08MTH8S', 'event_ts': '1674481677.000600'}\n"
     ]
    },
    {
     "name": "stderr",
     "output_type": "stream",
     "text": [
      "127.0.0.1 - - [23/Jan/2023 10:48:02] \"POST /slack/events HTTP/1.1\" 200 -\n",
      "127.0.0.1 - - [23/Jan/2023 10:48:03] \"POST /slack/events HTTP/1.1\" 200 -\n"
     ]
    },
    {
     "name": "stdout",
     "output_type": "stream",
     "text": [
      "{'type': 'reaction_added', 'user': 'U04G08MTH8S', 'reaction': 'raised_hands', 'item': {'type': 'message', 'channel': 'C04FZCL439B', 'ts': '1674481678.305109'}, 'item_user': 'U04GQ2L2X9N', 'event_ts': '1674481684.000700'}\n"
     ]
    },
    {
     "name": "stderr",
     "output_type": "stream",
     "text": [
      "127.0.0.1 - - [23/Jan/2023 10:48:09] \"POST /slack/events HTTP/1.1\" 200 -\n",
      "127.0.0.1 - - [23/Jan/2023 10:48:10] \"POST /slack/events HTTP/1.1\" 200 -\n"
     ]
    }
   ],
   "source": [
    "# import slack\n",
    "import os\n",
    "from pathlib import Path\n",
    "from dotenv import load_dotenv\n",
    "from flask import Flask, request, Response\n",
    "from slackeventsapi import SlackEventAdapter\n",
    "from slack_sdk import WebClient\n",
    "\n",
    "## new imports, hope trigger methods\n",
    "# from slackclient import SlackClient\n",
    "import json\n",
    "from flask import make_response\n",
    "\n",
    "env_path = Path('.') / '.env'\n",
    "load_dotenv(dotenv_path = env_path)\n",
    "\n",
    "app = Flask(__name__) # necessary to run flask app\n",
    "\n",
    "slack_event_adapter = SlackEventAdapter(\n",
    "    os.environ['SIGING_SECRECT'], \n",
    "    '/slack/events', \n",
    "    app) # vai lidar com os diversos eventos enviados a nois pelo slack_api\n",
    "\n",
    "client  = WebClient(token = os.environ['SLACK_TOKEN'])\n",
    "BOT_ID = client.api_call('auth.test')['user_id']\n",
    "\n",
    "count_reactions = {}\n",
    "\n",
    "# The endpoint Slack will load your menu options from https://github.com/slackapi/python-message-menu-example/blob/master/example.py\n",
    "@app.route(\"/slack/message_options\", methods=[\"POST\"])\n",
    "def message_options():\n",
    "    # Parse the request payload\n",
    "    form_json = json.loads(request.form[\"payload\"])\n",
    "\n",
    "\n",
    "    # Dictionary of menu options which will be sent as JSON\n",
    "    menu_options = {\n",
    "        \"options\": [\n",
    "            {\n",
    "                \"text\": \"Cappuccino\",\n",
    "                \"value\": \"cappuccino\"\n",
    "            },\n",
    "            {\n",
    "                \"text\": \"Latte\",\n",
    "                \"value\": \"latte\"\n",
    "            }\n",
    "        ]\n",
    "    }\n",
    "\n",
    "    # Load options dict as JSON and respond to Slack\n",
    "    return Response(json.dumps(menu_options), mimetype='application/json')\n",
    "\n",
    "# The endpoint Slack will send the user's menu selection to\n",
    "@app.route(\"/slack/message_actions\", methods=[\"POST\"])\n",
    "def message_actions():\n",
    "\n",
    "    # Parse the request payload\n",
    "    form_json = json.loads(request.form[\"payload\"])\n",
    "    channel_id = form_json.get('item', {}).get('channel')\n",
    "\n",
    "    # Check to see what the user's selection was and update the message accordingly\n",
    "    selection = form_json[\"actions\"][0][\"selected_options\"][0][\"value\"]\n",
    "\n",
    "    if selection == \"cappuccino\":\n",
    "        message_text = \"cappuccino\"\n",
    "    else:\n",
    "        message_text = \"latte\"\n",
    "\n",
    "    response = client.api_call(\n",
    "      api_method=\"chat.update\",\n",
    "      json = {\n",
    "      'channel':form_json[\"channel\"][\"id\"],\n",
    "      'ts':form_json[\"message_ts\"],\n",
    "      'text':\"One {}, right coming up! :coffee:\".format(message_text),\n",
    "      'attachments':[] # empty `attachments` to clear the existing massage attachments\n",
    "      }\n",
    "    )\n",
    "\n",
    "    # Send an HTTP 200 response with empty body so Slack knows we're done here\n",
    "    return make_response(\"\", 200)\n",
    "\n",
    "# A Dictionary of message attachment options\n",
    "attachments_json = [\n",
    "    {\n",
    "        \"fallback\": \"Upgrade your Slack client to use messages like these.\",\n",
    "        \"color\": \"#3AA3E3\",\n",
    "        \"attachment_type\": \"default\",\n",
    "        \"callback_id\": \"menu_options_2319\",\n",
    "        \"actions\": [\n",
    "            {\n",
    "                \"name\": \"bev_list\",\n",
    "                \"text\": \"Pick a beverage...\",\n",
    "                \"type\": \"select\",\n",
    "                \"data_source\": \"external\"\n",
    "            }\n",
    "        ]\n",
    "    }\n",
    "]\n",
    "\n",
    "# Send a message with the above attachment, asking the user if they want coffee\n",
    "client.api_call(\n",
    "  api_method=\"chat.postMessage\",\n",
    "  json={'channel':\"#test_create\",\n",
    "  'text':\"Would you like some coffee? :coffee:\",\n",
    "  'attachments':attachments_json}\n",
    ")\n",
    "\n",
    "# @app.client.reactions_get:\n",
    "# def emoji_message(reactions):\n",
    "#     message_full = reactions.get('message', {})\n",
    "#     # channel = reactions.get('channel')\n",
    "#     # user_id = message_full.get('user')\n",
    "#     # text = message_full.get('text')\n",
    "#     # emoji = message_full.get('reaction', {})\n",
    "#     # emoji_usado = emoji.get('nome')\n",
    "\n",
    "#     print(message_full)\n",
    "\n",
    "#     # if BOT_ID != user_id:\n",
    "#     #     client.chat_postMessage(channel = channel, text = f'{text} {emoji_usado}')\n",
    "\n",
    "\n",
    "@slack_event_adapter.on('reaction_added')\n",
    "def reaction(payload):\n",
    "\n",
    "    event = payload.get('event', {})\n",
    "    emoji = event.get('reaction')\n",
    "    message = event.get('item', {}).get('type')\n",
    "    channel_id = event.get('item', {}).get('channel')\n",
    "    user_id = event.get('user')\n",
    "\n",
    "    print(event)\n",
    "\n",
    "    if BOT_ID != user_id:\n",
    "        client.chat_postMessage(channel = channel_id, text = f':{emoji}: {user_id}')\n",
    "\n",
    "    return Response(), 200\n",
    "\n",
    "# @app.route('/contar-reacao', methods = ['POST'])\n",
    "# def contar_reacao():\n",
    "#     data = request.form\n",
    "#     user_id = data.get('user_id')\n",
    "#     channel_id = data.get('channel_id')\n",
    "#     print(data)\n",
    "\n",
    "#     client.chat_postMessage(channel=channel_id, text=f\"Message: command feito\")\n",
    "\n",
    "#     return Response(), 200\n",
    "\n",
    "\n",
    "@slack_event_adapter.on('message')\n",
    "def message(payload):\n",
    "    #print(payload)\n",
    "    event = payload.get('event', {})\n",
    "    channel_id = event.get('channel')\n",
    "    user_id = event.get('user')\n",
    "    text = event.get('text')\n",
    "\n",
    "    if BOT_ID != user_id:\n",
    "        client.chat_postMessage(channel = channel_id, text = 'f{}')\n",
    "\n",
    "\n",
    "if __name__ == \"__main__\":\n",
    "        app.run(debug=True, port = 5011, use_reloader=False)"
   ]
  },
  {
   "cell_type": "code",
   "execution_count": null,
   "metadata": {},
   "outputs": [],
   "source": [
    "#### ver mais referencias de protocolo REST e POO para poder implementar esse mêtodo (reactions.get)\n",
    "\n",
    "# https://api.slack.com/methods/reactions.get\n",
    "# https://api.slack.com/methods/conversations.history/code"
   ]
  },
  {
   "cell_type": "code",
   "execution_count": null,
   "metadata": {},
   "outputs": [],
   "source": [
    "client.chat_postMessage(channel = '#test_create', text = 'Hello A!')"
   ]
  },
  {
   "attachments": {},
   "cell_type": "markdown",
   "metadata": {},
   "source": [
    "Instalado\n",
    "\n",
    "pip install flask\n",
    "pip install slackeventsapi\n"
   ]
  },
  {
   "cell_type": "code",
   "execution_count": null,
   "metadata": {},
   "outputs": [],
   "source": [
    "if __name__ == \"__main__\":\n",
    "        app.run(debug=True) # isso vai pegar nossa flack app e run defout port\n",
    "                                # tbm vai atualuzar sempre nosso file"
   ]
  }
 ],
 "metadata": {
  "kernelspec": {
   "display_name": "Python 3.10.9 64-bit (microsoft store)",
   "language": "python",
   "name": "python3"
  },
  "language_info": {
   "codemirror_mode": {
    "name": "ipython",
    "version": 3
   },
   "file_extension": ".py",
   "mimetype": "text/x-python",
   "name": "python",
   "nbconvert_exporter": "python",
   "pygments_lexer": "ipython3",
   "version": "3.10.9"
  },
  "orig_nbformat": 4,
  "vscode": {
   "interpreter": {
    "hash": "6f6d69478ace92ce3b9ffcbad4d2131bbcc32b1cdaa44a1ead1f3c2ecc70358c"
   }
  }
 },
 "nbformat": 4,
 "nbformat_minor": 2
}
